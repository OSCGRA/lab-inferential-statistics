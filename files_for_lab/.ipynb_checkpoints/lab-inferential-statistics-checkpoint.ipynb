{
 "cells": [
  {
   "cell_type": "markdown",
   "id": "75052331",
   "metadata": {},
   "source": [
    "![logo_ironhack_blue 7](https://user-images.githubusercontent.com/23629340/40541063-a07a0a8a-601a-11e8-91b5-2f13e4e6b441.png)\n",
    "\n",
    "# Lab | Inferential statistics\n",
    "\n",
    "\n",
    "### Instructions\n",
    "\n",
    "1. It is assumed that the mean systolic blood pressure is `μ = 120 mm Hg`. In the Honolulu Heart Study, a sample of `n = 100` people had an average systolic blood pressure of 130.1 mm Hg with a standard deviation of 21.21 mm Hg. Is the group significantly different (with respect to systolic blood pressure!) from the regular population?\n",
    "\n",
    "   - Set up the hypothesis test.\n",
    "   - Write down all the steps followed for setting up the test.\n",
    "   - Calculate the test statistic by hand and also code it in Python. It should be 4.76190. We will take a look at how to make decisions based on this calculated value.\n",
    "\n",
    "2. If you finished the previous question, please go through the code for `principal_component_analysis_example` provided in the `files_for_lab` folder .\n"
   ]
  },
  {
   "cell_type": "code",
   "execution_count": 3,
   "id": "300096aa",
   "metadata": {},
   "outputs": [],
   "source": [
    "import pandas as pd # manipulación de datos\n",
    "import numpy as np # operaciones matemáticos\n",
    "import matplotlib.pyplot as plt # visualización\n",
    "import seaborn as sns\n",
    "import scipy.stats as st # estadística"
   ]
  },
  {
   "cell_type": "markdown",
   "id": "935476de",
   "metadata": {},
   "source": [
    "<h3 style=\"##3E7BAC;\">Ho: The mean systolic blood pressure of the group is equal to the mean systolic blood pressure of the population</h3> \n",
    "\n",
    "    μ = 120 mm Hg \n",
    "   \n",
    "\n",
    "<h3 style=\"##3E7BAC;\">The sample:</h3>\n",
    "\n",
    "    μ1 = 130.1 mm Hg\n",
    "    n = 100 people\n",
    "    std = 21.21 mm Hg"
   ]
  },
  {
   "cell_type": "markdown",
   "id": "440d9294",
   "metadata": {},
   "source": [
    "<h2 style=\"color: #00BFFF;\">One Sample Z-Test in Python</h2>"
   ]
  },
  {
   "cell_type": "code",
   "execution_count": 19,
   "id": "036abfee",
   "metadata": {},
   "outputs": [
    {
     "name": "stdout",
     "output_type": "stream",
     "text": [
      "Critical value: 1.959963984540054\n"
     ]
    }
   ],
   "source": [
    "alpha = 0.05\n",
    "\n",
    "#Podemos importar el test:\n",
    "\n",
    "from statsmodels.stats.weightstats import ztest as ztest\n",
    "\n",
    "#Pero no es necesario ya que no tenemos los datos de la población si no que ya disponemos de la desviación estandar y la media.\n",
    "\n",
    "from scipy.stats import norm #Importamos norm para calcular el critical_value para comparar el z-test\n",
    "\n",
    "critical_value = norm.ppf(1 - alpha/2)  # Porque es una prueba de dos colas, dividimos alpha por 2\n",
    "\n",
    "print(\"Critical value:\", critical_value)"
   ]
  },
  {
   "cell_type": "code",
   "execution_count": 13,
   "id": "a9049e3a",
   "metadata": {},
   "outputs": [],
   "source": [
    "sample_mean = 130.1\n",
    "population_mean = 120\n",
    "sample_std = 21.21\n",
    "sample_size = 100\n",
    "\n",
    "import math"
   ]
  },
  {
   "cell_type": "code",
   "execution_count": 14,
   "id": "148d629d",
   "metadata": {},
   "outputs": [],
   "source": [
    "z = (sample_mean - population_mean) / (sample_std / math.sqrt(sample_size))"
   ]
  },
  {
   "cell_type": "code",
   "execution_count": 17,
   "id": "a75c55ef",
   "metadata": {},
   "outputs": [
    {
     "name": "stdout",
     "output_type": "stream",
     "text": [
      " The Z value of the population is 4.761904761904759\n"
     ]
    }
   ],
   "source": [
    "print(f' The Z value of the population is {z}')"
   ]
  },
  {
   "cell_type": "code",
   "execution_count": 20,
   "id": "317a2d3c",
   "metadata": {},
   "outputs": [
    {
     "name": "stdout",
     "output_type": "stream",
     "text": [
      "Reject the null hipothesis. This group has a blood pressure significantly diferent for the rest of population.\n"
     ]
    }
   ],
   "source": [
    "if abs(z) > critical_value:\n",
    "    print(\"Reject the null hipothesis. This group has a blood pressure significantly diferent for the rest of population.\")\n",
    "else:\n",
    "    print(\"Accept the null hipothesis. This group hasn´t a blood pressure significantly diferent for the rest of population.\")"
   ]
  }
 ],
 "metadata": {
  "kernelspec": {
   "display_name": "Python 3 (ipykernel)",
   "language": "python",
   "name": "python3"
  },
  "language_info": {
   "codemirror_mode": {
    "name": "ipython",
    "version": 3
   },
   "file_extension": ".py",
   "mimetype": "text/x-python",
   "name": "python",
   "nbconvert_exporter": "python",
   "pygments_lexer": "ipython3",
   "version": "3.11.5"
  }
 },
 "nbformat": 4,
 "nbformat_minor": 5
}
